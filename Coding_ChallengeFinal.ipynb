{
 "cells": [
  {
   "cell_type": "code",
   "execution_count": 39,
   "metadata": {},
   "outputs": [],
   "source": [
    "import os\n",
    "import re\n",
    "import sys\n",
    "import pandas as pd\n",
    "import statistics\n",
    "from textblob import TextBlob\n"
   ]
  },
  {
   "cell_type": "code",
   "execution_count": 40,
   "metadata": {
    "scrolled": false
   },
   "outputs": [
    {
     "data": {
      "text/plain": [
       "'\"Stop blushing. I\\'m not needling, really I\\'m not. Do you know, I\\nhad a dream an hour ago. I lay down for a cat-nap and in this dream\\nyou and I, Montag, got into a furious debate on books. You towered\\nwith rage, yelled quotes at me. I calmly parried every thrust. Power, I\\nsaid, And you, quoting Dr. Johnson, said `Knowledge is more than\\nequivalent to force!\\' And I said, `Well, Dr. Johnson also said, dear boy,\\nthat \"He is no wise man that will quit a certainty for an uncertainty.\\'\"\\nStick with the fireman, Montag. All else is dreary chaos!\"\\n\"Don\\'t listen,\" whispered Faber. \"He\\'s trying to confuse. He\\'s\\nslippery. Watch out!\"\\nBeatty chuckled. \"And you said, quoting, `Truth will come to light,\\nmurder will not be hid long!\\' And I cried in good humour, \\'Oh God, he\\nspeaks only of his horse!\\' And `The Devil can cite Scripture for his\\npurpose.\\' And you yelled, \\'This age thinks better of a gilded fool, than\\nof a threadbare saint in wisdom\\'s school!\\' And I whispered gently, \\'The\\ndignity of truth is lost with much protesting.\\' And you screamed,\\n\\'Carcasses bleed at the sight of the murderer!\\' And I said, patting your\\nhand, \\'What, do I give you trench mouth?\\' And you shrieked,\\n\\'Knowledge is power!\\' and \\'A dwarf on a giant\\'s shoulders of the\\nfurthest of the two!\\' and I summed my side up with rare serenity in,\\n\\'The folly of mistaking a metaphor for a proof, a torrent of verbiage for\\na spring of capital truths, and oneself as an oracle, is inborn in us, Mr.\\nValery once said.\\'\" \\n\\nI think you may like to know something of his person and character. He \\nhad an excellent constitution of body, was of middle stature, but well set, \\nand very strong; he was ingenious, could draw prettily, was skilled a little \\nin music, and had a clear, pleasing voice, so that when he played psalm tunes\\n on his violin and sung withal, as he sometimes did in an evening after \\nthe business of the day was over, it was extremely agreeable to hear. He had \\na mechanical genius too, and, on occasion, was very handy in the use of other \\ntradesmen\\'s tools; but his great excellence lay in a sound understanding and \\nsolid judgment in prudential matters, both in private and publick affairs. \\nIn the latter, indeed, he was never employed, the numerous family he had to \\neducate and the straitness of his circumstances keeping him close to his trade; \\nbut I remember well his being frequently visited by leading people, who \\nconsulted him for his opinion in affairs of the town or of the church he \\nbelonged to, and showed a good deal of respect for his judgment and advice: \\nhe was also much consulted by private persons about their affairs when any difficulty \\noccurred, and frequently chosen an arbitrator between contending parties. \\nAt his table he liked to have, as often as he could, some sensible friend or \\nneighbor to converse with, and always took care to start some ingenious or useful \\ntopic for discourse, which might tend to improve the minds of his children. \\nBy this means he turned our attention to what was good, just, and prudent in \\nthe conduct of life; and little or no notice was ever taken of what related to \\nthe victuals on the table, whether it was well or ill dressed, in or out of season, \\nof good or bad flavor, preferable or inferior to this or that other thing \\nof the kind, so that I was bro\\'t up in such a perfect inattention to those matters \\nas to be quite indifferent what kind of food was set before me, and so unobservant of \\nit, that to this day if I am asked I can scarce tell a few hours after dinner \\nwhat I dined upon. This has been a convenience to me in traveling, where my \\ncompanions have been sometimes very unhappy for want of a suitable gratification \\nof their more delicate, because better instructed, tastes and appetites.'"
      ]
     },
     "execution_count": 40,
     "metadata": {},
     "output_type": "execute_result"
    }
   ],
   "source": [
    "#import the input text into a string called mytext\n",
    "file = open(\"input.txt\")\n",
    "mytext = file.read()\n",
    "file.close()\n",
    "mytext\n"
   ]
  },
  {
   "cell_type": "code",
   "execution_count": 41,
   "metadata": {},
   "outputs": [
    {
     "name": "stdout",
     "output_type": "stream",
     "text": [
      "The score of the text is: Sentiment(polarity=0.21353174603174602, subjectivity=0.5953968253968255)\n"
     ]
    }
   ],
   "source": [
    "#Get the polarity and Subjectivity score of the passage as whole without any modifications\n",
    "\n",
    "\n",
    "print(\"The score of the text is: \" + str(TextBlob(mytext).sentiment))"
   ]
  },
  {
   "cell_type": "code",
   "execution_count": 42,
   "metadata": {},
   "outputs": [
    {
     "data": {
      "text/plain": [
       "Sentiment(polarity=0.21353174603174602, subjectivity=0.5953968253968255)"
      ]
     },
     "execution_count": 42,
     "metadata": {},
     "output_type": "execute_result"
    }
   ],
   "source": [
    "# modifying the text to all lowercase to just focus on the text to make the sentiment score more precise\n",
    "TextBlob(mytext.casefold()).sentiment"
   ]
  },
  {
   "cell_type": "code",
   "execution_count": 43,
   "metadata": {},
   "outputs": [
    {
     "name": "stdout",
     "output_type": "stream",
     "text": [
      "This is the sentiment score of the whole text cleaned for analysisSentiment(polarity=0.21883459595959592, subjectivity=0.588040404040404)\n"
     ]
    }
   ],
   "source": [
    "# removing extra lines, and empty quotations\n",
    "mytext=mytext.casefold()\n",
    "\n",
    "mytext= mytext.replace('\\n',\" \")\n",
    "mytext=mytext.replace(\"'\", \"\")\n",
    "\n",
    "TextBlob(mytext).sentiment\n",
    "print (\"This is the sentiment score of the whole text cleaned for analysis\" + str(TextBlob(mytext).sentiment))"
   ]
  },
  {
   "cell_type": "code",
   "execution_count": 44,
   "metadata": {},
   "outputs": [
    {
     "name": "stdout",
     "output_type": "stream",
     "text": [
      " This is the  list of every indiviual sentence analyzed with the sentiment score next to it:\n",
      "[['\"stop blushing', Sentiment(polarity=0.0, subjectivity=0.0)], ['im not needling, really im not', Sentiment(polarity=-0.1, subjectivity=0.2)], ['do you know, i had a dream an hour ago', Sentiment(polarity=0.0, subjectivity=0.0)], ['i lay down for a cat-nap and in this dream you and i, montag, got into a furious debate on books', Sentiment(polarity=-0.15555555555555559, subjectivity=0.2888888888888889)], ['you towered with rage, yelled quotes at me', Sentiment(polarity=0.0, subjectivity=0.0)], ['i calmly parried every thrust', Sentiment(polarity=0.30000000000000004, subjectivity=0.75)], ['power, i said, and you, quoting dr', Sentiment(polarity=0.0, subjectivity=0.0)], ['johnson, said `knowledge is more than equivalent to force', Sentiment(polarity=0.5, subjectivity=0.5)], [' and i said, `well, dr', Sentiment(polarity=0.0, subjectivity=0.0)], ['johnson also said, dear boy, that \"he is no wise man that will quit a certainty for an uncertainty', Sentiment(polarity=-0.35, subjectivity=0.9)], ['\" stick with the fireman, montag', Sentiment(polarity=0.0, subjectivity=0.0)], ['all else is dreary chaos', Sentiment(polarity=0.0, subjectivity=0.0)], ['\" \"dont listen,\" whispered faber', Sentiment(polarity=0.0, subjectivity=0.0)], ['\"hes trying to confuse', Sentiment(polarity=0.0, subjectivity=0.0)], ['hes slippery', Sentiment(polarity=0.0, subjectivity=0.0)], ['watch out', Sentiment(polarity=0.0, subjectivity=0.0)], ['\" beatty chuckled', Sentiment(polarity=0.0, subjectivity=0.0)], ['\"and you said, quoting, `truth will come to light, murder will not be hid long', Sentiment(polarity=0.17500000000000002, subjectivity=0.55)], [' and i cried in good humour, oh god, he speaks only of his horse', Sentiment(polarity=0.35, subjectivity=0.8)], [' and `the devil can cite scripture for his purpose', Sentiment(polarity=0.0, subjectivity=0.0)], ['and you yelled, this age thinks better of a gilded fool, than of a threadbare saint in wisdoms school', Sentiment(polarity=0.5, subjectivity=0.5)], [' and i whispered gently, the dignity of truth is lost with much protesting', Sentiment(polarity=0.2, subjectivity=0.5)], ['and you screamed, carcasses bleed at the sight of the murderer', Sentiment(polarity=0.0, subjectivity=0.0)], [' and i said, patting your hand, what, do i give you trench mouth', Sentiment(polarity=0.0, subjectivity=0.0)], ['and you shrieked, knowledge is power', Sentiment(polarity=0.0, subjectivity=0.0)], [' and a dwarf on a giants shoulders of the furthest of the two', Sentiment(polarity=0.0, subjectivity=0.0)], [' and i summed my side up with rare serenity in, the folly of mistaking a metaphor for a proof, a torrent of verbiage for a spring of capital truths, and oneself as an oracle, is inborn in us, mr', Sentiment(polarity=0.3, subjectivity=0.9)], ['valery once said', Sentiment(polarity=0.0, subjectivity=0.0)], ['\"   i think you may like to know something of his person and character', Sentiment(polarity=0.0, subjectivity=0.0)], ['he  had an excellent constitution of body, was of middle stature, but well set,  and very strong; he was ingenious, could draw prettily, was skilled a little  in music, and had a clear, pleasing voice, so that when he played psalm tunes  on his violin and sung withal, as he sometimes did in an evening after  the business of the day was over, it was extremely agreeable to hear', Sentiment(polarity=0.2889814814814815, subjectivity=0.704074074074074)], ['he had  a mechanical genius too, and, on occasion, was very handy in the use of other  tradesmens tools; but his great excellence lay in a sound understanding and  solid judgment in prudential matters, both in private and publick affairs', Sentiment(polarity=0.30916666666666665, subjectivity=0.5)], ['in the latter, indeed, he was never employed, the numerous family he had to  educate and the straitness of his circumstances keeping him close to his trade;  but i remember well his being frequently visited by leading people, who  consulted him for his opinion in affairs of the town or of the church he  belonged to, and showed a good deal of respect for his judgment and advice:  he was also much consulted by private persons about their affairs when any difficulty  occurred, and frequently chosen an arbitrator between contending parties', Sentiment(polarity=0.15714285714285717, subjectivity=0.325)], ['at his table he liked to have, as often as he could, some sensible friend or  neighbor to converse with, and always took care to start some ingenious or useful  topic for discourse, which might tend to improve the minds of his children', Sentiment(polarity=0.46666666666666673, subjectivity=0.6)], ['by this means he turned our attention to what was good, just, and prudent in  the conduct of life; and little or no notice was ever taken of what related to  the victuals on the table, whether it was well or ill dressed, in or out of season,  of good or bad flavor, preferable or inferior to this or that other thing  of the kind, so that i was brot up in such a perfect inattention to those matters  as to be quite indifferent what kind of food was set before me, and so unobservant of  it, that to this day if i am asked i can scarce tell a few hours after dinner  what i dined upon', Sentiment(polarity=0.15729166666666666, subjectivity=0.6284722222222222)], ['this has been a convenience to me in traveling, where my  companions have been sometimes very unhappy for want of a suitable gratification  of their more delicate, because better instructed, tastes and appetites', Sentiment(polarity=0.094, subjectivity=0.73)]]\n"
     ]
    }
   ],
   "source": [
    "# creating a list called mytextL that takes in mytext and puts every sentence as an item of that list\n",
    "\n",
    "mytext_L =re.split(r\"\\.\\s*|!|\\?\\s*\",mytext)\n",
    "mytext_L.remove(\"\")\n",
    "#putting the sentiment score in each item of the list right after the sentence\n",
    "\n",
    "Sent_score=[]\n",
    "for x in range(len(mytext_L)):\n",
    "    Sent_score.append([mytext_L[x],TextBlob(mytext_L[x]).sentiment])\n",
    "\n",
    "print (\" This is the  list of every indiviual sentence analyzed with the sentiment score next to it:\" +\"\\n\" + str(Sent_score))\n",
    "\n",
    "    \n"
   ]
  },
  {
   "cell_type": "code",
   "execution_count": 45,
   "metadata": {
    "scrolled": true
   },
   "outputs": [
    {
     "name": "stdout",
     "output_type": "stream",
     "text": [
      " The average polarity score for each sentence is 0.09121982237339381\n",
      " The average subjectivity score for each sentence is 0.26789814814814816\n"
     ]
    }
   ],
   "source": [
    "# Getting the average polarity and subjectivity score of of each sentence analyzed individually to compare with polarity and sentiment score of the text analyzed as a whole\n",
    "Sent_polarity=[]\n",
    "Sent_subjectivity=[]\n",
    "for x in range(len(mytext_L)):\n",
    "    Sent_polarity.append(TextBlob(mytext_L[x]).sentiment.polarity)\n",
    "    Sent_subjectivity.append(TextBlob(mytext_L[x]).sentiment.subjectivity)\n",
    "avg_Sent_polarity=statistics.mean(Sent_polarity)\n",
    "avg_Sent_subjectivity=statistics.mean(Sent_subjectivity)\n",
    "print(\" The average polarity score for each sentence is \"+ str(avg_Sent_polarity))\n",
    "print(\" The average subjectivity score for each sentence is \"+ str(avg_Sent_subjectivity))"
   ]
  }
 ],
 "metadata": {
  "kernelspec": {
   "display_name": "Python 3",
   "language": "python",
   "name": "python3"
  },
  "language_info": {
   "codemirror_mode": {
    "name": "ipython",
    "version": 3
   },
   "file_extension": ".py",
   "mimetype": "text/x-python",
   "name": "python",
   "nbconvert_exporter": "python",
   "pygments_lexer": "ipython3",
   "version": "3.8.5"
  }
 },
 "nbformat": 4,
 "nbformat_minor": 4
}
