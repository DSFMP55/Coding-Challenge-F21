{
 "cells": [
  {
   "cell_type": "code",
   "execution_count": 1,
   "metadata": {},
   "outputs": [],
   "source": [
    "# import all the Libraries\n",
    "import os\n",
    "import re\n",
    "import sys\n",
    "import pandas as pd\n",
    "import statistics\n",
    "from textblob import TextBlob\n"
   ]
  },
  {
   "cell_type": "code",
   "execution_count": 2,
   "metadata": {
    "scrolled": false
   },
   "outputs": [],
   "source": [
    "#import the input text into a string called mytext\n",
    "file = open(\"input.txt\")\n",
    "mytext = file.read()\n",
    "file.close()\n"
   ]
  },
  {
   "cell_type": "code",
   "execution_count": 3,
   "metadata": {},
   "outputs": [
    {
     "name": "stdout",
     "output_type": "stream",
     "text": [
      "The score of the text is: Sentiment(polarity=0.21353174603174602, subjectivity=0.5953968253968255)\n"
     ]
    }
   ],
   "source": [
    "#Get the polarity and Subjectivity score of the passage as whole\n",
    "\n",
    "\n",
    "print(\"The score of the text is: \" + str(TextBlob(mytext).sentiment))"
   ]
  },
  {
   "cell_type": "code",
   "execution_count": 11,
   "metadata": {},
   "outputs": [
    {
     "name": "stdout",
     "output_type": "stream",
     "text": [
      " This is the  list of every indiviual sentence analyzed with the sentiment score next to it:\n",
      "[['\"Stop blushing', Sentiment(polarity=0.0, subjectivity=0.0)], [\"I'm not needling, really I'm not\", Sentiment(polarity=-0.1, subjectivity=0.2)], ['Do you know, I had a dream an hour ago', Sentiment(polarity=0.0, subjectivity=0.0)], ['I lay down for a cat-nap and in this dream you and I, Montag, got into a furious debate on books', Sentiment(polarity=-0.15555555555555559, subjectivity=0.2888888888888889)], ['You towered with rage, yelled quotes at me', Sentiment(polarity=0.0, subjectivity=0.0)], ['I calmly parried every thrust', Sentiment(polarity=0.30000000000000004, subjectivity=0.75)], ['Power, I said, And you, quoting  Johnson, said `Knowledge is more than equivalent to force', Sentiment(polarity=0.5, subjectivity=0.5)], ['\\' And I said, `Well,  Johnson also said, dear boy, that \"He is no wise man that will quit a certainty for an uncertainty', Sentiment(polarity=-0.35, subjectivity=0.9)], ['\\'\" Stick with the fireman, Montag', Sentiment(polarity=0.0, subjectivity=0.0)], ['All else is dreary chaos', Sentiment(polarity=0.0, subjectivity=0.0)], ['\" \"Don\\'t listen,\" whispered Faber', Sentiment(polarity=0.0, subjectivity=0.0)], ['\"He\\'s trying to confuse', Sentiment(polarity=0.0, subjectivity=0.0)], [\"He's slippery\", Sentiment(polarity=0.0, subjectivity=0.0)], ['Watch out', Sentiment(polarity=0.0, subjectivity=0.0)], ['\" Beatty chuckled', Sentiment(polarity=0.0, subjectivity=0.0)], ['\"And you said, quoting, `Truth will come to light, murder will not be hid long', Sentiment(polarity=0.17500000000000002, subjectivity=0.55)], [\"' And I cried in good humour, 'Oh God, he speaks only of his horse\", Sentiment(polarity=0.35, subjectivity=0.8)], [\"' And `The Devil can cite Scripture for his purpose\", Sentiment(polarity=0.0, subjectivity=0.0)], [\"' And you yelled, 'This age thinks better of a gilded fool, than of a threadbare saint in wisdom's school\", Sentiment(polarity=0.5, subjectivity=0.5)], [\"' And I whispered gently, 'The dignity of truth is lost with much protesting\", Sentiment(polarity=0.2, subjectivity=0.5)], [\"' And you screamed, 'Carcasses bleed at the sight of the murderer\", Sentiment(polarity=0.0, subjectivity=0.0)], [\"' And I said, patting your hand, 'What, do I give you trench mouth\", Sentiment(polarity=0.0, subjectivity=0.0)], [\"' And you shrieked, 'Knowledge is power\", Sentiment(polarity=0.0, subjectivity=0.0)], [\"' and 'A dwarf on a giant's shoulders of the furthest of the two\", Sentiment(polarity=0.0, subjectivity=1.0)], [\"' and I summed my side up with rare serenity in, 'The folly of mistaking a metaphor for a proof, a torrent of verbiage for a spring of capital truths, and oneself as an oracle, is inborn in us,  Valery once said\", Sentiment(polarity=0.3, subjectivity=0.9)], ['\\'\"  I think you may like to know something of his person and character', Sentiment(polarity=0.0, subjectivity=0.0)], ['He  had an excellent constitution of body, was of middle stature, but well set,  and very strong; he was ingenious, could draw prettily, was skilled a little  in music, and had a clear, pleasing voice, so that when he played psalm tunes  on his violin and sung withal, as he sometimes did in an evening after  the business of the day was over, it was extremely agreeable to hear', Sentiment(polarity=0.2889814814814815, subjectivity=0.704074074074074)], [\"He had  a mechanical genius too, and, on occasion, was very handy in the use of other  tradesmen's tools; but his great excellence lay in a sound understanding and  solid judgment in prudential matters, both in private and publick affairs\", Sentiment(polarity=0.30916666666666665, subjectivity=0.5)], ['In the latter, indeed, he was never employed, the numerous family he had to  educate and the straitness of his circumstances keeping him close to his trade;  but I remember well his being frequently visited by leading people, who  consulted him for his opinion in affairs of the town or of the church he  belonged to, and showed a good deal of respect for his judgment and advice:  he was also much consulted by private persons about their affairs when any difficulty  occurred, and frequently chosen an arbitrator between contending parties', Sentiment(polarity=0.15714285714285717, subjectivity=0.325)], ['At his table he liked to have, as often as he could, some sensible friend or  neighbor to converse with, and always took care to start some ingenious or useful  topic for discourse, which might tend to improve the minds of his children', Sentiment(polarity=0.46666666666666673, subjectivity=0.6)], [\"By this means he turned our attention to what was good, just, and prudent in  the conduct of life; and little or no notice was ever taken of what related to  the victuals on the table, whether it was well or ill dressed, in or out of season,  of good or bad flavor, preferable or inferior to this or that other thing  of the kind, so that I was bro't up in such a perfect inattention to those matters  as to be quite indifferent what kind of food was set before me, and so unobservant of  it, that to this day if I am asked I can scarce tell a few hours after dinner  what I dined upon\", Sentiment(polarity=0.15729166666666666, subjectivity=0.6284722222222222)], ['This has been a convenience to me in traveling, where my  companions have been sometimes very unhappy for want of a suitable gratification  of their more delicate, because better instructed, tastes and appetites', Sentiment(polarity=0.094, subjectivity=0.73)], ['', Sentiment(polarity=0.0, subjectivity=0.0)]]\n"
     ]
    }
   ],
   "source": [
    "# creating a list called mytextL that takes in mytext and puts every sentence as an item of that list\n",
    "      # removing salutations to avoid splitting sentences based on names\n",
    "mytext= mytext.replace(\"Mr.\",\"\")\n",
    "mytext= mytext.replace(\"Dr.\",\"\")\n",
    "mytext= mytext.replace(\"Ms.\",\"\")\n",
    "mytext= mytext.replace(\"Mrs.\",\"\")\n",
    "\n",
    "\n",
    "\n",
    "    # splits sentences by periods, and question marks\n",
    "mytext_L =re.split(r\"\\.\\\\s*|\\.\\s*|!|\\?\\s*\",mytext)\n",
    "\n",
    "\n",
    "# loops through the text and removes all instances of \"\\n\"\n",
    "\n",
    "for x in range(len(mytext_L)):\n",
    "    mytext_L[x] =  mytext_L[x].replace('\\n',\" \")\n",
    "\n",
    "\n",
    "    \n",
    "\n",
    "    \n",
    "    \n",
    "\n",
    "#putting the sentiment score in each item of the list right after the sentence\n",
    "\n",
    "Sent_score=[]\n",
    "for x in range(len(mytext_L)):\n",
    "    Sent_score.append([mytext_L[x],TextBlob(mytext_L[x]).sentiment])\n",
    "\n",
    "print (\" This is the  list of every indiviual sentence analyzed with the sentiment score next to it:\" +\"\\n\" + str(Sent_score))\n",
    "\n",
    "    \n"
   ]
  },
  {
   "cell_type": "code",
   "execution_count": 12,
   "metadata": {},
   "outputs": [
    {
     "name": "stdout",
     "output_type": "stream",
     "text": [
      " The average polarity score for each sentence is 0.09674829645662979\n",
      " The average subjectivity score for each sentence is 0.3144374298540965\n"
     ]
    }
   ],
   "source": [
    "# Getting the average polarity and subjectivity score of of each sentence analyzed individually to compare with polarity and sentiment score of the text analyzed as a whole\n",
    "Sent_polarity=[]\n",
    "Sent_subjectivity=[]\n",
    "for x in range(len(mytext_L)):\n",
    "    Sent_polarity.append(TextBlob(mytext_L[x]).sentiment.polarity)\n",
    "    Sent_subjectivity.append(TextBlob(mytext_L[x]).sentiment.subjectivity)\n",
    "avg_Sent_polarity=statistics.mean(Sent_polarity)\n",
    "avg_Sent_subjectivity=statistics.mean(Sent_subjectivity)\n",
    "print(\" The average polarity score for each sentence is \"+ str(avg_Sent_polarity))\n",
    "print(\" The average subjectivity score for each sentence is \"+ str(avg_Sent_subjectivity))"
   ]
  },
  {
   "cell_type": "markdown",
   "metadata": {},
   "source": [
    "# Notes:\n",
    "### TextBlob is a library that already gave a subjectivity and polarity score to each word, and it is used to calculate the total sentiment score( polarity and subjectivity score of a text) by tallying up the sentiment score of each word in a text. \n",
    "#### The polarity score is score of the total \"emotion\" of the word, where it is a decimal score between -1 and 1 based on how positive, neutral or negative the word is.\n",
    "#### The subjectivity score a value of how opinionated, vs factual a word is. The more factual it is 0, and the closer it is to 1, the more opininoated it is. \n",
    "### When the TextBlob library analyzed the text as a whole, it generated a higher sentiment score than the average sentiment score of every sentence analyzed individually.\n"
   ]
  },
  {
   "cell_type": "code",
   "execution_count": null,
   "metadata": {},
   "outputs": [],
   "source": []
  }
 ],
 "metadata": {
  "kernelspec": {
   "display_name": "Python 3",
   "language": "python",
   "name": "python3"
  },
  "language_info": {
   "codemirror_mode": {
    "name": "ipython",
    "version": 3
   },
   "file_extension": ".py",
   "mimetype": "text/x-python",
   "name": "python",
   "nbconvert_exporter": "python",
   "pygments_lexer": "ipython3",
   "version": "3.8.5"
  }
 },
 "nbformat": 4,
 "nbformat_minor": 4
}
